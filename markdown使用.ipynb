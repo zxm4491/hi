{
 "cells": [
  {
   "cell_type": "markdown",
   "id": "0a43b3e9",
   "metadata": {},
   "source": [
    "## 这是XXX的自我介绍\n",
    "我的**兴趣爱好**，我的*擅长*，我改进了~~哪些我不喜欢的内容~~\n",
    "1. First item\n",
    "4. Second item\n",
    "5. Third item\n",
    "\n",
    "- First item\n",
    "- Second item\n",
    "\n",
    "[知网](https://www.cnki.net/)\n",
    "\n",
    "![这是一张图片]()\n",
    "\n",
    "插入一段代码：\n",
    "```\n",
    "def shucheng(n):\n",
    "    if n==1:\n",
    "        return 1\n",
    "    else:\n",
    "        return n*shucheng(n-1)\n",
    "print(shucheng(3))\n",
    "```\n",
    ">这是我最近最喜欢的一句话，是由某某某所讲\n",
    ">\n",
    ">大致意思是\n",
    "<iframe src=\"https://b23.tv/U8sHs2p\" ></iframe>\n",
    "    "
   ]
  }
 ],
 "metadata": {
  "kernelspec": {
   "display_name": "Python 3 (ipykernel)",
   "language": "python",
   "name": "python3"
  },
  "language_info": {
   "codemirror_mode": {
    "name": "ipython",
    "version": 3
   },
   "file_extension": ".py",
   "mimetype": "text/x-python",
   "name": "python",
   "nbconvert_exporter": "python",
   "pygments_lexer": "ipython3",
   "version": "3.9.13"
  }
 },
 "nbformat": 4,
 "nbformat_minor": 5
}
